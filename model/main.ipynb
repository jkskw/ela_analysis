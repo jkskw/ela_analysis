{
 "cells": [
  {
   "cell_type": "code",
   "execution_count": 2,
   "metadata": {},
   "outputs": [
    {
     "name": "stderr",
     "output_type": "stream",
     "text": [
      "/tmp/ipykernel_13136/3501982945.py:5: DtypeWarning: Columns (13,14,15,16,17,18,19,57,59,61,63,65,67,81,83,85,87,89,91,105,106,108,109,111,112,114,115,117,118,120,121,135,136,138,139,141,142,144,145,147,148,150,151,165,166,168,169,171,172,174,175,177,178,180,181,195,196,198,199,201,202,204,205,207,208,210,211,225,226,229,230,232,233,235,236,238,239,241,242,256,257,259,260,262,263,265,266,268,269,271,272,288,299,300,301,303,304,306,307,309,310,312,313,315,316,330,331,337,338,340,341,343,344,346,347,349,350,364,365,367,368,370,371,373,374,376,377,379,380,394,395,403,404,406,407,409,410,412,413,415,416,430,431,433,434,436,437,439,440,442,443,445,446) have mixed types. Specify dtype option on import or set low_memory=False.\n",
      "  graduates_data = pd.read_csv('/home/jkskw/git/ela_analysis/data_analysis/data/graduates-major-data.csv', sep=';')\n",
      "/tmp/ipykernel_13136/3501982945.py:6: DtypeWarning: Columns (9,18,23,30,64,71,78,85,92,99,106,113,120) have mixed types. Specify dtype option on import or set low_memory=False.\n",
      "  students_data = pd.read_csv('/home/jkskw/git/ela_analysis/data_analysis/data/students-major-data.csv', sep=';')\n"
     ]
    }
   ],
   "source": [
    "# Importing necessary libraries\n",
    "import pandas as pd\n",
    "\n",
    "# Load datasets\n",
    "graduates_data = pd.read_csv('/home/jkskw/git/ela_analysis/data_analysis/data/graduates-major-data.csv', sep=';')\n",
    "students_data = pd.read_csv('/home/jkskw/git/ela_analysis/data_analysis/data/students-major-data.csv', sep=';')\n",
    "\n",
    "# Define key variables for analysis\n",
    "P_WOJ = graduates_data['P_WOJ']  # Województwo lokalizacji jednostki dydaktycznej\n",
    "P_ME_ZAR = graduates_data['P_ME_ZAR']  # Mediana wynagrodzeń absolwentów\n",
    "P_WWZ = graduates_data['P_WWZ']  # Względny Wskaźnik Zarobków\n",
    "P_WWB = graduates_data['P_WWB']  # Względny Wskaźnik Bezrobocia\n",
    "P_WWB_DOSW = graduates_data['P_WWB_DOSW']  # Wskaźnik Bezrobocia dla absolwentów z doświadczeniem\n",
    "P_WWB_NDOSW = graduates_data['P_WWB_NDOSW']  # Wskaźnik Bezrobocia dla absolwentów bez doświadczenia\n",
    "P_CZAS_PRACA_DOSW = graduates_data['P_CZAS_PRACA_DOSW']  # Czas do pierwszej pracy dla absolwentów z doświadczeniem\n",
    "P_CZAS_PRACA_NDOSW = graduates_data['P_CZAS_PRACA_NDOSW']  # Czas do pierwszej pracy dla absolwentów bez doświadczenia\n",
    "P_ME_ZAR_DOSW = graduates_data['P_ME_ZAR_DOSW']  # Mediana wynagrodzeń dla absolwentów z doświadczeniem\n",
    "P_ME_ZAR_NDOSW = graduates_data['P_ME_ZAR_NDOSW']  # Mediana wynagrodzeń dla absolwentów bez doświadczenia\n",
    "P_N = students_data['P_N']  # Liczba studentów\n",
    "P_ABS = graduates_data['P_N'] # Liczba absolwentów\n",
    "P_POZIOM = graduates_data['P_POZIOM']  # Poziom studiów\n",
    "P_FORMA = graduates_data['P_FORMA']  # Forma studiów\n",
    "P_ROKDYP = graduates_data['P_ROKDYP'] # Rok ukończenia studiów\n",
    "P_ROK_OD = students_data['P_ROK_OD'] # Rok rozpoczęcia studiów\n",
    "P_KIERUNEK_NAZWA = graduates_data['P_KIERUNEK_NAZWA'] # Pełna nazwa kierunku\n",
    "P_ME_ZAR_P1 = graduates_data['P_ME_ZAR_P1'] # Mediana średnich miesięcznych wynagrodzeń absolwentów ze wszystkich źródeł w 1 roku po uzyskaniu dyplomu\n",
    "P_ME_ZAR_P2 = graduates_data['P_ME_ZAR_P2'] # Mediana średnich miesięcznych wynagrodzeń absolwentów ze wszystkich źródeł w 2 roku po uzyskaniu dyplomu\n",
    "P_ME_ZAR_P3 = graduates_data['P_ME_ZAR_P3'] # Mediana średnich miesięcznych wynagrodzeń absolwentów ze wszystkich źródeł w 3 roku po uzyskaniu dyplomu\n",
    "P_ME_ZAR_P4 = graduates_data['P_ME_ZAR_P4'] # Mediana średnich miesięcznych wynagrodzeń absolwentów ze wszystkich źródeł w 4 roku po uzyskaniu dyplomu\n",
    "P_ME_ZAR_P5 = graduates_data['P_ME_ZAR_P5'] # Mediana średnich miesięcznych wynagrodzeń absolwentów ze wszystkich źródeł w 5 roku po uzyskaniu dyplomu\n",
    "P_N_SEMESTR = graduates_data['P_N_SEMESTR'] # Liczba semestrów\n",
    "P_NAZWA_UCZELNI = graduates_data['P_NAZWA_UCZELNI'] # Nazwa uczelni"
   ]
  },
  {
   "cell_type": "code",
   "execution_count": 3,
   "metadata": {},
   "outputs": [],
   "source": [
    "# Convert columns in graduates_data\n",
    "for col in graduates_data.columns:\n",
    "    if any(keyword in col for keyword in ['P_ME', 'P_WWZ', 'P_WWB']):\n",
    "        graduates_data[col] = graduates_data[col].str.replace(',', '.').astype(float)"
   ]
  }
 ],
 "metadata": {
  "kernelspec": {
   "display_name": "venv",
   "language": "python",
   "name": "python3"
  },
  "language_info": {
   "codemirror_mode": {
    "name": "ipython",
    "version": 3
   },
   "file_extension": ".py",
   "mimetype": "text/x-python",
   "name": "python",
   "nbconvert_exporter": "python",
   "pygments_lexer": "ipython3",
   "version": "3.12.3"
  }
 },
 "nbformat": 4,
 "nbformat_minor": 2
}
