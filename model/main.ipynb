{
 "cells": [
  {
   "cell_type": "code",
   "execution_count": 2,
   "metadata": {},
   "outputs": [
    {
     "name": "stderr",
     "output_type": "stream",
     "text": [
      "/tmp/ipykernel_12508/3501982945.py:5: DtypeWarning: Columns (13,14,15,16,17,18,19,57,59,61,63,65,67,81,83,85,87,89,91,105,106,108,109,111,112,114,115,117,118,120,121,135,136,138,139,141,142,144,145,147,148,150,151,165,166,168,169,171,172,174,175,177,178,180,181,195,196,198,199,201,202,204,205,207,208,210,211,225,226,229,230,232,233,235,236,238,239,241,242,256,257,259,260,262,263,265,266,268,269,271,272,288,299,300,301,303,304,306,307,309,310,312,313,315,316,330,331,337,338,340,341,343,344,346,347,349,350,364,365,367,368,370,371,373,374,376,377,379,380,394,395,403,404,406,407,409,410,412,413,415,416,430,431,433,434,436,437,439,440,442,443,445,446) have mixed types. Specify dtype option on import or set low_memory=False.\n",
      "  graduates_data = pd.read_csv('/home/jkskw/git/ela_analysis/data_analysis/data/graduates-major-data.csv', sep=';')\n",
      "/tmp/ipykernel_12508/3501982945.py:6: DtypeWarning: Columns (9,18,23,30,64,71,78,85,92,99,106,113,120) have mixed types. Specify dtype option on import or set low_memory=False.\n",
      "  students_data = pd.read_csv('/home/jkskw/git/ela_analysis/data_analysis/data/students-major-data.csv', sep=';')\n"
     ]
    }
   ],
   "source": [
    "# Importing necessary libraries\n",
    "import pandas as pd\n",
    "\n",
    "# Load datasets\n",
    "graduates_data = pd.read_csv('/home/jkskw/git/ela_analysis/data_analysis/data/graduates-major-data.csv', sep=';')\n",
    "students_data = pd.read_csv('/home/jkskw/git/ela_analysis/data_analysis/data/students-major-data.csv', sep=';')\n",
    "\n",
    "# Define key variables for analysis\n",
    "P_WOJ = graduates_data['P_WOJ']  # Województwo lokalizacji jednostki dydaktycznej\n",
    "P_ME_ZAR = graduates_data['P_ME_ZAR']  # Mediana wynagrodzeń absolwentów\n",
    "P_WWZ = graduates_data['P_WWZ']  # Względny Wskaźnik Zarobków\n",
    "P_WWB = graduates_data['P_WWB']  # Względny Wskaźnik Bezrobocia\n",
    "P_WWB_DOSW = graduates_data['P_WWB_DOSW']  # Wskaźnik Bezrobocia dla absolwentów z doświadczeniem\n",
    "P_WWB_NDOSW = graduates_data['P_WWB_NDOSW']  # Wskaźnik Bezrobocia dla absolwentów bez doświadczenia\n",
    "P_CZAS_PRACA_DOSW = graduates_data['P_CZAS_PRACA_DOSW']  # Czas do pierwszej pracy dla absolwentów z doświadczeniem\n",
    "P_CZAS_PRACA_NDOSW = graduates_data['P_CZAS_PRACA_NDOSW']  # Czas do pierwszej pracy dla absolwentów bez doświadczenia\n",
    "P_ME_ZAR_DOSW = graduates_data['P_ME_ZAR_DOSW']  # Mediana wynagrodzeń dla absolwentów z doświadczeniem\n",
    "P_ME_ZAR_NDOSW = graduates_data['P_ME_ZAR_NDOSW']  # Mediana wynagrodzeń dla absolwentów bez doświadczenia\n",
    "P_N = students_data['P_N']  # Liczba studentów\n",
    "P_ABS = graduates_data['P_N'] # Liczba absolwentów\n",
    "P_POZIOM = graduates_data['P_POZIOM']  # Poziom studiów\n",
    "P_FORMA = graduates_data['P_FORMA']  # Forma studiów\n",
    "P_ROKDYP = graduates_data['P_ROKDYP'] # Rok ukończenia studiów\n",
    "P_ROK_OD = students_data['P_ROK_OD'] # Rok rozpoczęcia studiów\n",
    "P_KIERUNEK_NAZWA = graduates_data['P_KIERUNEK_NAZWA'] # Pełna nazwa kierunku\n",
    "P_ME_ZAR_P1 = graduates_data['P_ME_ZAR_P1'] # Mediana średnich miesięcznych wynagrodzeń absolwentów ze wszystkich źródeł w 1 roku po uzyskaniu dyplomu\n",
    "P_ME_ZAR_P2 = graduates_data['P_ME_ZAR_P2'] # Mediana średnich miesięcznych wynagrodzeń absolwentów ze wszystkich źródeł w 2 roku po uzyskaniu dyplomu\n",
    "P_ME_ZAR_P3 = graduates_data['P_ME_ZAR_P3'] # Mediana średnich miesięcznych wynagrodzeń absolwentów ze wszystkich źródeł w 3 roku po uzyskaniu dyplomu\n",
    "P_ME_ZAR_P4 = graduates_data['P_ME_ZAR_P4'] # Mediana średnich miesięcznych wynagrodzeń absolwentów ze wszystkich źródeł w 4 roku po uzyskaniu dyplomu\n",
    "P_ME_ZAR_P5 = graduates_data['P_ME_ZAR_P5'] # Mediana średnich miesięcznych wynagrodzeń absolwentów ze wszystkich źródeł w 5 roku po uzyskaniu dyplomu\n",
    "P_N_SEMESTR = graduates_data['P_N_SEMESTR'] # Liczba semestrów\n",
    "P_NAZWA_UCZELNI = graduates_data['P_NAZWA_UCZELNI'] # Nazwa uczelni"
   ]
  },
  {
   "cell_type": "code",
   "execution_count": 3,
   "metadata": {},
   "outputs": [],
   "source": [
    "# Convert columns in graduates_data\n",
    "for col in graduates_data.columns:\n",
    "    if any(keyword in col for keyword in ['P_ME', 'P_WWZ', 'P_WWB']):\n",
    "        graduates_data[col] = graduates_data[col].str.replace(',', '.').astype(float)"
   ]
  },
  {
   "cell_type": "code",
   "execution_count": null,
   "metadata": {},
   "outputs": [],
   "source": [
    "# Import additional necessary libraries\n",
    "from sklearn.model_selection import train_test_split\n",
    "from sklearn.preprocessing import StandardScaler\n",
    "from sklearn.svm import SVR\n",
    "from sklearn.metrics import mean_squared_error, r2_score\n",
    "import matplotlib.pyplot as plt\n",
    "\n",
    "# Data exploration (optional: check for missing values and basic statistics)\n",
    "print(graduates_data.describe())\n",
    "print(graduates_data.isnull().sum())\n",
    "\n",
    "# Handling missing values (if any)\n",
    "graduates_data = graduates_data.dropna(subset=['P_WWB', 'P_ME_ZAR', 'P_WWB_DOSW', 'P_WWB_NDOSW'])\n",
    "\n",
    "# Define features (X) and target variable (y) for regression\n",
    "X = graduates_data[['P_WWB', 'P_WWB_DOSW', 'P_WWB_NDOSW']]  # Select features\n",
    "y = graduates_data['P_ME_ZAR']  # Target variable\n",
    "\n",
    "# Split the data into training and testing sets\n",
    "X_train, X_test, y_train, y_test = train_test_split(X, y, test_size=0.2, random_state=42)\n",
    "\n",
    "# Normalize the data (important for SVR)\n",
    "scaler_X = StandardScaler()\n",
    "scaler_y = StandardScaler()\n",
    "\n",
    "X_train_scaled = scaler_X.fit_transform(X_train)\n",
    "X_test_scaled = scaler_X.transform(X_test)\n",
    "y_train_scaled = scaler_y.fit_transform(y_train.values.reshape(-1, 1)).flatten()\n",
    "\n",
    "# Initialize and train the SVR model\n",
    "svr = SVR(kernel='rbf', C=1.0, epsilon=0.1)  # RBF kernel\n",
    "svr.fit(X_train_scaled, y_train_scaled)\n",
    "\n",
    "# Make predictions\n",
    "y_pred_scaled = svr.predict(X_test_scaled)\n",
    "y_pred = scaler_y.inverse_transform(y_pred_scaled)\n",
    "\n",
    "# Evaluate the model\n",
    "mse = mean_squared_error(y_test, y_pred)\n",
    "r2 = r2_score(y_test, y_pred)\n",
    "\n",
    "print(f\"Mean Squared Error (MSE): {mse}\")\n",
    "print(f\"R-squared (R2): {r2}\")\n",
    "\n",
    "# Visualize actual vs predicted values\n",
    "plt.figure(figsize=(8, 6))\n",
    "plt.scatter(y_test, y_pred, alpha=0.7, label=\"Predicted vs Actual\")\n",
    "plt.plot([y_test.min(), y_test.max()], [y_test.min(), y_test.max()], 'r--', label=\"Perfect Prediction\")\n",
    "plt.xlabel('Actual Median Salary')\n",
    "plt.ylabel('Predicted Median Salary')\n",
    "plt.title('SVR: Predicted vs Actual Median Salaries')\n",
    "plt.legend()\n",
    "plt.show()\n"
   ]
  }
 ],
 "metadata": {
  "kernelspec": {
   "display_name": "Python 3",
   "language": "python",
   "name": "python3"
  },
  "language_info": {
   "codemirror_mode": {
    "name": "ipython",
    "version": 3
   },
   "file_extension": ".py",
   "mimetype": "text/x-python",
   "name": "python",
   "nbconvert_exporter": "python",
   "pygments_lexer": "ipython3",
   "version": "3.12.3"
  }
 },
 "nbformat": 4,
 "nbformat_minor": 2
}
